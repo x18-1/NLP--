{
 "cells": [
  {
   "attachments": {},
   "cell_type": "markdown",
   "metadata": {},
   "source": [
    "## 数据组合"
   ]
  },
  {
   "attachments": {},
   "cell_type": "markdown",
   "metadata": {},
   "source": [
    "现在可能不能正常运行，根据目录结构变化进行修改"
   ]
  },
  {
   "cell_type": "code",
   "execution_count": 9,
   "metadata": {},
   "outputs": [],
   "source": [
    "import os\n",
    "import pandas as pd"
   ]
  },
  {
   "cell_type": "code",
   "execution_count": 10,
   "metadata": {},
   "outputs": [
    {
     "data": {
      "text/plain": [
       "['国际.csv', '思想.csv', '时事.csv', '科技.csv', '财经.csv']"
      ]
     },
     "execution_count": 10,
     "metadata": {},
     "output_type": "execute_result"
    }
   ],
   "source": [
    "import os\n",
    "name_list = os.listdir()[2:]\n",
    "name_list"
   ]
  },
  {
   "cell_type": "code",
   "execution_count": 11,
   "metadata": {},
   "outputs": [
    {
     "data": {
      "text/html": [
       "<div>\n",
       "<style scoped>\n",
       "    .dataframe tbody tr th:only-of-type {\n",
       "        vertical-align: middle;\n",
       "    }\n",
       "\n",
       "    .dataframe tbody tr th {\n",
       "        vertical-align: top;\n",
       "    }\n",
       "\n",
       "    .dataframe thead th {\n",
       "        text-align: right;\n",
       "    }\n",
       "</style>\n",
       "<table border=\"1\" class=\"dataframe\">\n",
       "  <thead>\n",
       "    <tr style=\"text-align: right;\">\n",
       "      <th></th>\n",
       "      <th>title</th>\n",
       "      <th>label</th>\n",
       "    </tr>\n",
       "  </thead>\n",
       "  <tbody>\n",
       "    <tr>\n",
       "      <th>0</th>\n",
       "      <td>1</td>\n",
       "      <td>1</td>\n",
       "    </tr>\n",
       "  </tbody>\n",
       "</table>\n",
       "</div>"
      ],
      "text/plain": [
       "   title  label\n",
       "0      1      1"
      ]
     },
     "execution_count": 11,
     "metadata": {},
     "output_type": "execute_result"
    }
   ],
   "source": [
    "data = pd.DataFrame({'title':[1],'label':[1]})\n",
    "data"
   ]
  },
  {
   "cell_type": "code",
   "execution_count": 12,
   "metadata": {},
   "outputs": [
    {
     "name": "stdout",
     "output_type": "stream",
     "text": [
      "国际.csv\n",
      "思想.csv\n",
      "时事.csv\n",
      "科技.csv\n",
      "财经.csv\n"
     ]
    },
    {
     "data": {
      "text/html": [
       "<div>\n",
       "<style scoped>\n",
       "    .dataframe tbody tr th:only-of-type {\n",
       "        vertical-align: middle;\n",
       "    }\n",
       "\n",
       "    .dataframe tbody tr th {\n",
       "        vertical-align: top;\n",
       "    }\n",
       "\n",
       "    .dataframe thead th {\n",
       "        text-align: right;\n",
       "    }\n",
       "</style>\n",
       "<table border=\"1\" class=\"dataframe\">\n",
       "  <thead>\n",
       "    <tr style=\"text-align: right;\">\n",
       "      <th></th>\n",
       "      <th>0</th>\n",
       "      <th>1</th>\n",
       "    </tr>\n",
       "  </thead>\n",
       "  <tbody>\n",
       "    <tr>\n",
       "      <th>0</th>\n",
       "      <td>持续追踪丨俄再度炮击赫尔松，泽连斯基呼吁西方加强乌防空</td>\n",
       "      <td>国际</td>\n",
       "    </tr>\n",
       "    <tr>\n",
       "      <th>1</th>\n",
       "      <td>COP15专访｜穿汉服的中国代表团成员讲述谈判背后的故事</td>\n",
       "      <td>国际</td>\n",
       "    </tr>\n",
       "    <tr>\n",
       "      <th>2</th>\n",
       "      <td>泰国一艘军舰沉没，搜救队正在寻找33名失踪船员</td>\n",
       "      <td>国际</td>\n",
       "    </tr>\n",
       "    <tr>\n",
       "      <th>3</th>\n",
       "      <td>圆桌｜威斯特伐利亚体系从未退场？俄乌冲突下的欧洲之变</td>\n",
       "      <td>国际</td>\n",
       "    </tr>\n",
       "    <tr>\n",
       "      <th>4</th>\n",
       "      <td>法国败北马克龙表态：决赛不是提前写好的剧本，希望德尚留任</td>\n",
       "      <td>国际</td>\n",
       "    </tr>\n",
       "    <tr>\n",
       "      <th>...</th>\n",
       "      <td>...</td>\n",
       "      <td>...</td>\n",
       "    </tr>\n",
       "    <tr>\n",
       "      <th>4995</th>\n",
       "      <td>北京第四批次6宗住宅用地收金135亿元，“热度达到了较高水平”地产界2022-11-29</td>\n",
       "      <td>财经</td>\n",
       "    </tr>\n",
       "    <tr>\n",
       "      <th>4996</th>\n",
       "      <td>杭州第四批次供地：8宗宅地收金98.9亿元，其中3宗达到上限价格地产界2022-11-29</td>\n",
       "      <td>财经</td>\n",
       "    </tr>\n",
       "    <tr>\n",
       "      <th>4997</th>\n",
       "      <td>独家｜知情人谈张核子和核酸生意：深圳坐拥带停机坪别墅，张姗姗是谁？10%公司2022-11-...</td>\n",
       "      <td>财经</td>\n",
       "    </tr>\n",
       "    <tr>\n",
       "      <th>4998</th>\n",
       "      <td>放量大涨沪指收复60日均线，反弹持续性如何？或挑战半年线牛市点线面2022-11-29</td>\n",
       "      <td>财经</td>\n",
       "    </tr>\n",
       "    <tr>\n",
       "      <th>4999</th>\n",
       "      <td>三天涨了超30%！翰宇药业：预防新冠多肽鼻喷已紧急发往多地10%公司2022-11-2918</td>\n",
       "      <td>财经</td>\n",
       "    </tr>\n",
       "  </tbody>\n",
       "</table>\n",
       "<p>5000 rows × 2 columns</p>\n",
       "</div>"
      ],
      "text/plain": [
       "                                                      0   1\n",
       "0                           持续追踪丨俄再度炮击赫尔松，泽连斯基呼吁西方加强乌防空  国际\n",
       "1                          COP15专访｜穿汉服的中国代表团成员讲述谈判背后的故事  国际\n",
       "2                               泰国一艘军舰沉没，搜救队正在寻找33名失踪船员  国际\n",
       "3                            圆桌｜威斯特伐利亚体系从未退场？俄乌冲突下的欧洲之变  国际\n",
       "4                          法国败北马克龙表态：决赛不是提前写好的剧本，希望德尚留任  国际\n",
       "...                                                 ...  ..\n",
       "4995       北京第四批次6宗住宅用地收金135亿元，“热度达到了较高水平”地产界2022-11-29  财经\n",
       "4996      杭州第四批次供地：8宗宅地收金98.9亿元，其中3宗达到上限价格地产界2022-11-29  财经\n",
       "4997  独家｜知情人谈张核子和核酸生意：深圳坐拥带停机坪别墅，张姗姗是谁？10%公司2022-11-...  财经\n",
       "4998        放量大涨沪指收复60日均线，反弹持续性如何？或挑战半年线牛市点线面2022-11-29  财经\n",
       "4999     三天涨了超30%！翰宇药业：预防新冠多肽鼻喷已紧急发往多地10%公司2022-11-2918  财经\n",
       "\n",
       "[5000 rows x 2 columns]"
      ]
     },
     "execution_count": 12,
     "metadata": {},
     "output_type": "execute_result"
    }
   ],
   "source": [
    "data = []\n",
    "for i in name_list:\n",
    "    print(i)\n",
    "    data_ = pd.read_csv(f\"{i}\")[['content']][:1000]\n",
    "    data_['label'] = i[:2]\n",
    "    data.append(data_.values)\n",
    "data = pd.DataFrame([i for line in data for i in line])\n",
    "data"
   ]
  },
  {
   "cell_type": "code",
   "execution_count": 13,
   "metadata": {},
   "outputs": [
    {
     "data": {
      "text/html": [
       "<div>\n",
       "<style scoped>\n",
       "    .dataframe tbody tr th:only-of-type {\n",
       "        vertical-align: middle;\n",
       "    }\n",
       "\n",
       "    .dataframe tbody tr th {\n",
       "        vertical-align: top;\n",
       "    }\n",
       "\n",
       "    .dataframe thead th {\n",
       "        text-align: right;\n",
       "    }\n",
       "</style>\n",
       "<table border=\"1\" class=\"dataframe\">\n",
       "  <thead>\n",
       "    <tr style=\"text-align: right;\">\n",
       "      <th></th>\n",
       "      <th>title</th>\n",
       "      <th>label</th>\n",
       "    </tr>\n",
       "  </thead>\n",
       "  <tbody>\n",
       "    <tr>\n",
       "      <th>0</th>\n",
       "      <td>持续追踪丨俄再度炮击赫尔松，泽连斯基呼吁西方加强乌防空</td>\n",
       "      <td>国际</td>\n",
       "    </tr>\n",
       "    <tr>\n",
       "      <th>1</th>\n",
       "      <td>COP15专访｜穿汉服的中国代表团成员讲述谈判背后的故事</td>\n",
       "      <td>国际</td>\n",
       "    </tr>\n",
       "    <tr>\n",
       "      <th>2</th>\n",
       "      <td>泰国一艘军舰沉没，搜救队正在寻找33名失踪船员</td>\n",
       "      <td>国际</td>\n",
       "    </tr>\n",
       "    <tr>\n",
       "      <th>3</th>\n",
       "      <td>圆桌｜威斯特伐利亚体系从未退场？俄乌冲突下的欧洲之变</td>\n",
       "      <td>国际</td>\n",
       "    </tr>\n",
       "    <tr>\n",
       "      <th>4</th>\n",
       "      <td>法国败北马克龙表态：决赛不是提前写好的剧本，希望德尚留任</td>\n",
       "      <td>国际</td>\n",
       "    </tr>\n",
       "    <tr>\n",
       "      <th>...</th>\n",
       "      <td>...</td>\n",
       "      <td>...</td>\n",
       "    </tr>\n",
       "    <tr>\n",
       "      <th>4995</th>\n",
       "      <td>北京第四批次6宗住宅用地收金135亿元，“热度达到了较高水平”地产界2022-11-29</td>\n",
       "      <td>财经</td>\n",
       "    </tr>\n",
       "    <tr>\n",
       "      <th>4996</th>\n",
       "      <td>杭州第四批次供地：8宗宅地收金98.9亿元，其中3宗达到上限价格地产界2022-11-29</td>\n",
       "      <td>财经</td>\n",
       "    </tr>\n",
       "    <tr>\n",
       "      <th>4997</th>\n",
       "      <td>独家｜知情人谈张核子和核酸生意：深圳坐拥带停机坪别墅，张姗姗是谁？10%公司2022-11-...</td>\n",
       "      <td>财经</td>\n",
       "    </tr>\n",
       "    <tr>\n",
       "      <th>4998</th>\n",
       "      <td>放量大涨沪指收复60日均线，反弹持续性如何？或挑战半年线牛市点线面2022-11-29</td>\n",
       "      <td>财经</td>\n",
       "    </tr>\n",
       "    <tr>\n",
       "      <th>4999</th>\n",
       "      <td>三天涨了超30%！翰宇药业：预防新冠多肽鼻喷已紧急发往多地10%公司2022-11-2918</td>\n",
       "      <td>财经</td>\n",
       "    </tr>\n",
       "  </tbody>\n",
       "</table>\n",
       "<p>5000 rows × 2 columns</p>\n",
       "</div>"
      ],
      "text/plain": [
       "                                                  title label\n",
       "0                           持续追踪丨俄再度炮击赫尔松，泽连斯基呼吁西方加强乌防空    国际\n",
       "1                          COP15专访｜穿汉服的中国代表团成员讲述谈判背后的故事    国际\n",
       "2                               泰国一艘军舰沉没，搜救队正在寻找33名失踪船员    国际\n",
       "3                            圆桌｜威斯特伐利亚体系从未退场？俄乌冲突下的欧洲之变    国际\n",
       "4                          法国败北马克龙表态：决赛不是提前写好的剧本，希望德尚留任    国际\n",
       "...                                                 ...   ...\n",
       "4995       北京第四批次6宗住宅用地收金135亿元，“热度达到了较高水平”地产界2022-11-29    财经\n",
       "4996      杭州第四批次供地：8宗宅地收金98.9亿元，其中3宗达到上限价格地产界2022-11-29    财经\n",
       "4997  独家｜知情人谈张核子和核酸生意：深圳坐拥带停机坪别墅，张姗姗是谁？10%公司2022-11-...    财经\n",
       "4998        放量大涨沪指收复60日均线，反弹持续性如何？或挑战半年线牛市点线面2022-11-29    财经\n",
       "4999     三天涨了超30%！翰宇药业：预防新冠多肽鼻喷已紧急发往多地10%公司2022-11-2918    财经\n",
       "\n",
       "[5000 rows x 2 columns]"
      ]
     },
     "execution_count": 13,
     "metadata": {},
     "output_type": "execute_result"
    }
   ],
   "source": [
    "data = data.rename(columns={0:\"title\",1:'label'})\n",
    "data"
   ]
  },
  {
   "cell_type": "code",
   "execution_count": 14,
   "metadata": {},
   "outputs": [],
   "source": [
    "data.to_csv(\"train.csv\",index=None)"
   ]
  },
  {
   "cell_type": "code",
   "execution_count": null,
   "metadata": {},
   "outputs": [],
   "source": []
  }
 ],
 "metadata": {
  "kernelspec": {
   "display_name": "Python 3",
   "language": "python",
   "name": "python3"
  },
  "language_info": {
   "codemirror_mode": {
    "name": "ipython",
    "version": 3
   },
   "file_extension": ".py",
   "mimetype": "text/x-python",
   "name": "python",
   "nbconvert_exporter": "python",
   "pygments_lexer": "ipython3",
   "version": "3.9.1 (tags/v3.9.1:1e5d33e, Dec  7 2020, 17:08:21) [MSC v.1927 64 bit (AMD64)]"
  },
  "orig_nbformat": 4,
  "vscode": {
   "interpreter": {
    "hash": "47e86d731e077963188d400b641a1f5cee6401b89b8a1175acb1a082248e2517"
   }
  }
 },
 "nbformat": 4,
 "nbformat_minor": 2
}
