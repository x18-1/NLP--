{
 "cells": [
  {
   "attachments": {},
   "cell_type": "markdown",
   "metadata": {},
   "source": [
    "# 初步过滤一下数据"
   ]
  },
  {
   "cell_type": "code",
   "execution_count": 1,
   "metadata": {},
   "outputs": [],
   "source": [
    "import pandas as pd\n",
    "import numpy as np\n",
    "import re"
   ]
  },
  {
   "cell_type": "code",
   "execution_count": 2,
   "metadata": {},
   "outputs": [
    {
     "data": {
      "text/html": [
       "<div>\n",
       "<style scoped>\n",
       "    .dataframe tbody tr th:only-of-type {\n",
       "        vertical-align: middle;\n",
       "    }\n",
       "\n",
       "    .dataframe tbody tr th {\n",
       "        vertical-align: top;\n",
       "    }\n",
       "\n",
       "    .dataframe thead th {\n",
       "        text-align: right;\n",
       "    }\n",
       "</style>\n",
       "<table border=\"1\" class=\"dataframe\">\n",
       "  <thead>\n",
       "    <tr style=\"text-align: right;\">\n",
       "      <th></th>\n",
       "      <th>title</th>\n",
       "      <th>label</th>\n",
       "    </tr>\n",
       "  </thead>\n",
       "  <tbody>\n",
       "    <tr>\n",
       "      <th>0</th>\n",
       "      <td>持续追踪丨俄再度炮击赫尔松，泽连斯基呼吁西方加强乌防空</td>\n",
       "      <td>国际</td>\n",
       "    </tr>\n",
       "    <tr>\n",
       "      <th>1</th>\n",
       "      <td>COP15专访｜穿汉服的中国代表团成员讲述谈判背后的故事</td>\n",
       "      <td>国际</td>\n",
       "    </tr>\n",
       "    <tr>\n",
       "      <th>2</th>\n",
       "      <td>泰国一艘军舰沉没，搜救队正在寻找33名失踪船员</td>\n",
       "      <td>国际</td>\n",
       "    </tr>\n",
       "    <tr>\n",
       "      <th>3</th>\n",
       "      <td>圆桌｜威斯特伐利亚体系从未退场？俄乌冲突下的欧洲之变</td>\n",
       "      <td>国际</td>\n",
       "    </tr>\n",
       "    <tr>\n",
       "      <th>4</th>\n",
       "      <td>法国败北马克龙表态：决赛不是提前写好的剧本，希望德尚留任</td>\n",
       "      <td>国际</td>\n",
       "    </tr>\n",
       "    <tr>\n",
       "      <th>...</th>\n",
       "      <td>...</td>\n",
       "      <td>...</td>\n",
       "    </tr>\n",
       "    <tr>\n",
       "      <th>4995</th>\n",
       "      <td>北京第四批次6宗住宅用地收金135亿元，“热度达到了较高水平”地产界2022-11-29</td>\n",
       "      <td>财经</td>\n",
       "    </tr>\n",
       "    <tr>\n",
       "      <th>4996</th>\n",
       "      <td>杭州第四批次供地：8宗宅地收金98.9亿元，其中3宗达到上限价格地产界2022-11-29</td>\n",
       "      <td>财经</td>\n",
       "    </tr>\n",
       "    <tr>\n",
       "      <th>4997</th>\n",
       "      <td>独家｜知情人谈张核子和核酸生意：深圳坐拥带停机坪别墅，张姗姗是谁？10%公司2022-11-...</td>\n",
       "      <td>财经</td>\n",
       "    </tr>\n",
       "    <tr>\n",
       "      <th>4998</th>\n",
       "      <td>放量大涨沪指收复60日均线，反弹持续性如何？或挑战半年线牛市点线面2022-11-29</td>\n",
       "      <td>财经</td>\n",
       "    </tr>\n",
       "    <tr>\n",
       "      <th>4999</th>\n",
       "      <td>三天涨了超30%！翰宇药业：预防新冠多肽鼻喷已紧急发往多地10%公司2022-11-2918</td>\n",
       "      <td>财经</td>\n",
       "    </tr>\n",
       "  </tbody>\n",
       "</table>\n",
       "<p>5000 rows × 2 columns</p>\n",
       "</div>"
      ],
      "text/plain": [
       "                                                  title label\n",
       "0                           持续追踪丨俄再度炮击赫尔松，泽连斯基呼吁西方加强乌防空    国际\n",
       "1                          COP15专访｜穿汉服的中国代表团成员讲述谈判背后的故事    国际\n",
       "2                               泰国一艘军舰沉没，搜救队正在寻找33名失踪船员    国际\n",
       "3                            圆桌｜威斯特伐利亚体系从未退场？俄乌冲突下的欧洲之变    国际\n",
       "4                          法国败北马克龙表态：决赛不是提前写好的剧本，希望德尚留任    国际\n",
       "...                                                 ...   ...\n",
       "4995       北京第四批次6宗住宅用地收金135亿元，“热度达到了较高水平”地产界2022-11-29    财经\n",
       "4996      杭州第四批次供地：8宗宅地收金98.9亿元，其中3宗达到上限价格地产界2022-11-29    财经\n",
       "4997  独家｜知情人谈张核子和核酸生意：深圳坐拥带停机坪别墅，张姗姗是谁？10%公司2022-11-...    财经\n",
       "4998        放量大涨沪指收复60日均线，反弹持续性如何？或挑战半年线牛市点线面2022-11-29    财经\n",
       "4999     三天涨了超30%！翰宇药业：预防新冠多肽鼻喷已紧急发往多地10%公司2022-11-2918    财经\n",
       "\n",
       "[5000 rows x 2 columns]"
      ]
     },
     "execution_count": 2,
     "metadata": {},
     "output_type": "execute_result"
    }
   ],
   "source": [
    "data = pd.read_csv(\"train.csv\")\n",
    "data"
   ]
  },
  {
   "attachments": {},
   "cell_type": "markdown",
   "metadata": {},
   "source": [
    "## 1.观察数据集后发现有些数据集之后有日期"
   ]
  },
  {
   "attachments": {},
   "cell_type": "markdown",
   "metadata": {},
   "source": [
    "形如：2022-12-0915、2022-12-09、3天前、22小时前，先将其删除\n"
   ]
  },
  {
   "cell_type": "code",
   "execution_count": 3,
   "metadata": {},
   "outputs": [
    {
     "data": {
      "text/html": [
       "<div>\n",
       "<style scoped>\n",
       "    .dataframe tbody tr th:only-of-type {\n",
       "        vertical-align: middle;\n",
       "    }\n",
       "\n",
       "    .dataframe tbody tr th {\n",
       "        vertical-align: top;\n",
       "    }\n",
       "\n",
       "    .dataframe thead th {\n",
       "        text-align: right;\n",
       "    }\n",
       "</style>\n",
       "<table border=\"1\" class=\"dataframe\">\n",
       "  <thead>\n",
       "    <tr style=\"text-align: right;\">\n",
       "      <th></th>\n",
       "      <th>title</th>\n",
       "      <th>label</th>\n",
       "    </tr>\n",
       "  </thead>\n",
       "  <tbody>\n",
       "    <tr>\n",
       "      <th>0</th>\n",
       "      <td>持续追踪丨俄再度炮击赫尔松，泽连斯基呼吁西方加强乌防空</td>\n",
       "      <td>国际</td>\n",
       "    </tr>\n",
       "    <tr>\n",
       "      <th>1</th>\n",
       "      <td>COP15专访｜穿汉服的中国代表团成员讲述谈判背后的故事</td>\n",
       "      <td>国际</td>\n",
       "    </tr>\n",
       "    <tr>\n",
       "      <th>2</th>\n",
       "      <td>泰国一艘军舰沉没，搜救队正在寻找33名失踪船员</td>\n",
       "      <td>国际</td>\n",
       "    </tr>\n",
       "    <tr>\n",
       "      <th>3</th>\n",
       "      <td>圆桌｜威斯特伐利亚体系从未退场？俄乌冲突下的欧洲之变</td>\n",
       "      <td>国际</td>\n",
       "    </tr>\n",
       "    <tr>\n",
       "      <th>4</th>\n",
       "      <td>法国败北马克龙表态：决赛不是提前写好的剧本，希望德尚留任</td>\n",
       "      <td>国际</td>\n",
       "    </tr>\n",
       "    <tr>\n",
       "      <th>...</th>\n",
       "      <td>...</td>\n",
       "      <td>...</td>\n",
       "    </tr>\n",
       "    <tr>\n",
       "      <th>4995</th>\n",
       "      <td>北京第四批次6宗住宅用地收金135亿元，“热度达到了较高水平”地产界</td>\n",
       "      <td>财经</td>\n",
       "    </tr>\n",
       "    <tr>\n",
       "      <th>4996</th>\n",
       "      <td>杭州第四批次供地：8宗宅地收金98.9亿元，其中3宗达到上限价格地产界</td>\n",
       "      <td>财经</td>\n",
       "    </tr>\n",
       "    <tr>\n",
       "      <th>4997</th>\n",
       "      <td>独家｜知情人谈张核子和核酸生意：深圳坐拥带停机坪别墅，张姗姗是谁？10%公司</td>\n",
       "      <td>财经</td>\n",
       "    </tr>\n",
       "    <tr>\n",
       "      <th>4998</th>\n",
       "      <td>放量大涨沪指收复60日均线，反弹持续性如何？或挑战半年线牛市点线面</td>\n",
       "      <td>财经</td>\n",
       "    </tr>\n",
       "    <tr>\n",
       "      <th>4999</th>\n",
       "      <td>三天涨了超30%！翰宇药业：预防新冠多肽鼻喷已紧急发往多地10%公司</td>\n",
       "      <td>财经</td>\n",
       "    </tr>\n",
       "  </tbody>\n",
       "</table>\n",
       "<p>5000 rows × 2 columns</p>\n",
       "</div>"
      ],
      "text/plain": [
       "                                       title label\n",
       "0                持续追踪丨俄再度炮击赫尔松，泽连斯基呼吁西方加强乌防空    国际\n",
       "1               COP15专访｜穿汉服的中国代表团成员讲述谈判背后的故事    国际\n",
       "2                    泰国一艘军舰沉没，搜救队正在寻找33名失踪船员    国际\n",
       "3                 圆桌｜威斯特伐利亚体系从未退场？俄乌冲突下的欧洲之变    国际\n",
       "4               法国败北马克龙表态：决赛不是提前写好的剧本，希望德尚留任    国际\n",
       "...                                      ...   ...\n",
       "4995      北京第四批次6宗住宅用地收金135亿元，“热度达到了较高水平”地产界    财经\n",
       "4996     杭州第四批次供地：8宗宅地收金98.9亿元，其中3宗达到上限价格地产界    财经\n",
       "4997  独家｜知情人谈张核子和核酸生意：深圳坐拥带停机坪别墅，张姗姗是谁？10%公司    财经\n",
       "4998       放量大涨沪指收复60日均线，反弹持续性如何？或挑战半年线牛市点线面    财经\n",
       "4999      三天涨了超30%！翰宇药业：预防新冠多肽鼻喷已紧急发往多地10%公司    财经\n",
       "\n",
       "[5000 rows x 2 columns]"
      ]
     },
     "execution_count": 3,
     "metadata": {},
     "output_type": "execute_result"
    }
   ],
   "source": [
    "import re\n",
    "\n",
    "def f(x):\n",
    "    # 删除形如：2022-12-0915、2022-12-09\n",
    "    pattern = r\"\\d{1,9}-\\d{1,9}-\\d{1,9}\"\n",
    "    result = re.sub(pattern, \"\", x)\n",
    "    return result\n",
    "\n",
    "data['title'] = data['title'].map(f)\n",
    "data"
   ]
  },
  {
   "cell_type": "code",
   "execution_count": 4,
   "metadata": {},
   "outputs": [],
   "source": [
    "import re\n",
    "# 删除形如 几小时前、几天前的正则表达式\n",
    "\n",
    "text = \"这条消息是3小时前发的\"\n",
    "\n",
    "# 使用正则表达式删除“数字小时前”\n",
    "def f1(x):\n",
    "    text = re.sub(r\"\\d+小时前\\d+\", \"\", x)\n",
    "    return text\n",
    "def f2(x):\n",
    "    text = re.sub(r\"\\d+天前\\d+\", \"\", x)\n",
    "    return text\n",
    "def f3(x):\n",
    "    text = re.sub(r\"\\d+小时前\", \"\", x)\n",
    "    return text\n",
    "def f4(x):\n",
    "    text = re.sub(r\"\\d+天前\", \"\", x)\n",
    "    return text\n",
    "data['title'] = data['title'].map(f1)\n",
    "data['title'] = data['title'].map(f2)\n",
    "data['title'] = data['title'].map(f3)\n",
    "data['title'] = data['title'].map(f4)"
   ]
  },
  {
   "cell_type": "code",
   "execution_count": 5,
   "metadata": {},
   "outputs": [],
   "source": [
    "data.to_csv(\"train2.csv\",index=None)"
   ]
  },
  {
   "cell_type": "code",
   "execution_count": null,
   "metadata": {},
   "outputs": [],
   "source": []
  }
 ],
 "metadata": {
  "kernelspec": {
   "display_name": "Python 3",
   "language": "python",
   "name": "python3"
  },
  "language_info": {
   "codemirror_mode": {
    "name": "ipython",
    "version": 3
   },
   "file_extension": ".py",
   "mimetype": "text/x-python",
   "name": "python",
   "nbconvert_exporter": "python",
   "pygments_lexer": "ipython3",
   "version": "3.9.1 (tags/v3.9.1:1e5d33e, Dec  7 2020, 17:08:21) [MSC v.1927 64 bit (AMD64)]"
  },
  "orig_nbformat": 4,
  "vscode": {
   "interpreter": {
    "hash": "47e86d731e077963188d400b641a1f5cee6401b89b8a1175acb1a082248e2517"
   }
  }
 },
 "nbformat": 4,
 "nbformat_minor": 2
}
